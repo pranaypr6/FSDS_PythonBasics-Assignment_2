{
 "cells": [
  {
   "cell_type": "code",
   "execution_count": 1,
   "metadata": {},
   "outputs": [],
   "source": [
    "# 1.What are the two values of the Boolean data type? How do you write them?\n",
    "# Answer : \n",
    "#     The two values of the Boolean data type are 1.True 2. False"
   ]
  },
  {
   "cell_type": "code",
   "execution_count": 2,
   "metadata": {},
   "outputs": [],
   "source": [
    "# 2. What are the three different types of Boolean operators?\n",
    "# Answer :\n",
    "#     The three different types of Boolean operators are\n",
    "#     1. or\n",
    "#     2. and\n",
    "#     3. not"
   ]
  },
  {
   "cell_type": "code",
   "execution_count": 3,
   "metadata": {},
   "outputs": [],
   "source": [
    "# 3. Make a list of each Boolean operator's truth tables (i.e. every possible combination of Boolean\n",
    "# values for the operator and what it evaluate ).\n",
    "# Answer :\n",
    "\n",
    "#     Truth table for or operator\n",
    "\n",
    "#     input1  input2 Output\n",
    "#      True    True  True\n",
    "#      False   True  True\n",
    "#      True    False True\n",
    "#      False   False  False      \n",
    "    \n",
    "#     Truth table for and operator\n",
    "\n",
    "#     input1  input2 Output\n",
    "#      True    True  True\n",
    "#      False   True  False\n",
    "#      True    False False\n",
    "#      False   False  False  \n",
    "\n",
    "#     Truth table for not operator\n",
    "\n",
    "#     input    Output\n",
    "#      True     False\n",
    "#      False    True\n"
   ]
  },
  {
   "cell_type": "code",
   "execution_count": 5,
   "metadata": {},
   "outputs": [
    {
     "name": "stdout",
     "output_type": "stream",
     "text": [
      "False\n",
      "False\n",
      "True\n",
      "False\n",
      "False\n",
      "True\n"
     ]
    }
   ],
   "source": [
    "# 4. What are the values of the following expressions?\n",
    "# (5 > 4) and (3 == 5)\n",
    "# not (5 > 4)\n",
    "# (5 > 4) or (3 == 5)\n",
    "# not ((5 > 4) or (3 == 5))\n",
    "# (True and True) and (True == False)\n",
    "# (not False) or (not True)\n",
    "\n",
    "Answers :\n",
    "print((5 > 4) and (3 == 5))\n",
    "print(not (5 > 4))\n",
    "print((5 > 4) or (3 == 5))\n",
    "print(not ((5 > 4) or (3 == 5)))\n",
    "print((True and True) and (True == False))\n",
    "print((not False) or (not True))"
   ]
  },
  {
   "cell_type": "code",
   "execution_count": 6,
   "metadata": {},
   "outputs": [],
   "source": [
    "# 5. What are the six comparison operators?\n",
    "# Answers :\n",
    "#     The comparison operators are \n",
    "#     1. ==\n",
    "#     2. >=\n",
    "#     3. <=\n",
    "#     4. !=\n",
    "#     5. <\n",
    "#     6. >\n",
    "    "
   ]
  },
  {
   "cell_type": "code",
   "execution_count": 12,
   "metadata": {},
   "outputs": [
    {
     "name": "stdout",
     "output_type": "stream",
     "text": [
      "False\n"
     ]
    }
   ],
   "source": [
    "# 6. How do you tell the difference between the equal to and assignment operators?Describe a\n",
    "# condition and when you would use one.\n",
    "# Answer :\n",
    "#     equal to operator is used to compare values i.e,( 3 == 5) whereas assignment operator is used to assign a value to \n",
    "#     variable i.e, (a = 5)\n",
    "    \n",
    "# Example for assignment operator : \n",
    "\n",
    "student1 = \"hitesh\" \n",
    "student2 = \"sudhanshu\"\n",
    "\n",
    "# Example for equal operator :\n",
    "\n",
    "print(student1==student2)"
   ]
  },
  {
   "cell_type": "code",
   "execution_count": 14,
   "metadata": {},
   "outputs": [],
   "source": [
    "# 7. Identify the three blocks in this code:\n",
    "# spam = 0\n",
    "# if spam == 10:\n",
    "#     print('eggs')\n",
    "# if spam > 5:\n",
    "#     print('bacon')\n",
    "# else:\n",
    "#     print('ham')\n",
    "#     print('spam')\n",
    "#     print('spam')\n",
    "    \n",
    "# Answer :\n",
    "#     The 3 blocks in this code are\n",
    "#     1. if block\n",
    "#     2. if block\n",
    "#     3. else block"
   ]
  },
  {
   "cell_type": "code",
   "execution_count": 19,
   "metadata": {},
   "outputs": [
    {
     "name": "stdout",
     "output_type": "stream",
     "text": [
      "Greetings!\n"
     ]
    }
   ],
   "source": [
    "# 8. Write code that prints Hello if 1 is stored in spam, prints Howdy if 2 is stored in spam, and prints\n",
    "# Greetings! if anything else is stored in spam.\n",
    "\n",
    "spam = 20\n",
    "if spam == 1:\n",
    "    print('Hello')\n",
    "elif spam == 2:\n",
    "    print('Howdy')\n",
    "else:\n",
    "    print('Greetings!')\n",
    "\n"
   ]
  },
  {
   "cell_type": "code",
   "execution_count": 20,
   "metadata": {},
   "outputs": [],
   "source": [
    "# 9.If your programme is stuck in an endless loop, what keys you’ll press?\n",
    "\n",
    "# Answer :\n",
    "#     If i stuck in infinite loop\n",
    "#     1. I'll press the stop button \n",
    "#     or \n",
    "#     2. I'll press ctrl+c in the console"
   ]
  },
  {
   "cell_type": "code",
   "execution_count": 21,
   "metadata": {},
   "outputs": [],
   "source": [
    "# 10. How can you tell the difference between break and continue?\n",
    "# Answer :\n",
    "#     break terminates the loop whereas continue just skips the interation"
   ]
  },
  {
   "cell_type": "code",
   "execution_count": 25,
   "metadata": {},
   "outputs": [
    {
     "name": "stdout",
     "output_type": "stream",
     "text": [
      "0 1 2 3 4 5 6 7 8 9 \n",
      "0 1 2 3 4 5 6 7 8 9 \n",
      "0 1 2 3 4 5 6 7 8 9 "
     ]
    }
   ],
   "source": [
    "# 11. In a for loop, what is the difference between range(10), range(0, 10), and range(0, 10, 1)?\n",
    "# Answer :\n",
    "#     All of them will do the same work and have no difference \n",
    "#     All of them prints the numbers from 0 to 9\n",
    "\n",
    "for i in range(10):\n",
    "    print(i,end=\" \")\n",
    "print() \n",
    "\n",
    "for i in range(0,10):\n",
    "    print(i,end=\" \")\n",
    "print()\n",
    "\n",
    "for i in range(0,10,1):\n",
    "    print(i,end=\" \")"
   ]
  },
  {
   "cell_type": "code",
   "execution_count": 31,
   "metadata": {},
   "outputs": [
    {
     "name": "stdout",
     "output_type": "stream",
     "text": [
      "1 2 3 4 5 6 7 8 9 10 \n",
      "1 2 3 4 5 6 7 8 9 10 "
     ]
    }
   ],
   "source": [
    "# 12. Write a short program that prints the numbers 1 to 10 using a for loop. Then write an equivalent\n",
    "# program that prints the numbers 1 to 10 using a while loop.\n",
    "# Answer:\n",
    "    \n",
    "for i in range(1,11):\n",
    "    print(i,end=\" \")\n",
    "print() \n",
    "\n",
    "i=1\n",
    "while(i<11):\n",
    "    print(i,end=\" \")\n",
    "    i+=1"
   ]
  },
  {
   "cell_type": "code",
   "execution_count": 33,
   "metadata": {},
   "outputs": [],
   "source": [
    "# 13. If you had a function named bacon() inside a module named spam, how would you call it after\n",
    "# importing spam?\n",
    "# Answer :\n",
    "#     import spam\n",
    "#     spam.bacon()"
   ]
  }
 ],
 "metadata": {
  "kernelspec": {
   "display_name": "Python 3",
   "language": "python",
   "name": "python3"
  },
  "language_info": {
   "codemirror_mode": {
    "name": "ipython",
    "version": 3
   },
   "file_extension": ".py",
   "mimetype": "text/x-python",
   "name": "python",
   "nbconvert_exporter": "python",
   "pygments_lexer": "ipython3",
   "version": "3.8.5"
  }
 },
 "nbformat": 4,
 "nbformat_minor": 4
}
